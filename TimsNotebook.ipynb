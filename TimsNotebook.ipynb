{
 "cells": [
  {
   "cell_type": "markdown",
   "metadata": {},
   "source": [
    "# MKTYP -- Tim's notebook\n"
   ]
  },
  {
   "cell_type": "code",
   "execution_count": 1,
   "metadata": {},
   "outputs": [
    {
     "name": "stdout",
     "output_type": "stream",
     "text": [
      "Happy Happy Birthday 1\n",
      "Happy Happy Birthday 2\n",
      "Happy Happy Birthday 3\n",
      "Happy Happy Birthday 4\n",
      "Happy Happy Birthday 5\n",
      "Happy Happy Birthday 6\n",
      "Happy Happy Birthday 7\n",
      "Happy Happy Birthday 8\n",
      "Happy Happy Birthday 9\n",
      "Happy Happy Birthday 10\n",
      "Happy Happy Birthday 11\n",
      "Happy Happy Birthday 12\n",
      "Happy Happy Birthday 13\n",
      "Happy Happy Birthday 14\n",
      "Happy Happy Birthday 15\n",
      "Happy Happy Birthday 16\n",
      "Happy Happy Birthday 17\n",
      "Happy Happy Birthday 18\n",
      "Happy Happy Birthday 19\n"
     ]
    }
   ],
   "source": [
    "i=1\n",
    "while (i<=19):\n",
    "    print(\"Happy Happy Birthday \"+str(i))\n",
    "    i=i+1\n"
   ]
  },
  {
   "cell_type": "code",
   "execution_count": 5,
   "metadata": {},
   "outputs": [
    {
     "name": "stdout",
     "output_type": "stream",
     "text": [
      "MPH to FPS\n",
      "Enter miles per hour: 20\n",
      "Your speed in FPS is 29.333333333333332\n"
     ]
    }
   ],
   "source": [
    "print(\"MPH to FPS\")\n",
    "mph = float(input(\"Enter miles per hour: \"))\n",
    "fps = mph*5280/3600\n",
    "print(\"Your speed in FPS is \"+str(fps));"
   ]
  },
  {
   "cell_type": "code",
   "execution_count": null,
   "metadata": {},
   "outputs": [],
   "source": []
  }
 ],
 "metadata": {
  "kernelspec": {
   "display_name": "Python 3",
   "language": "python",
   "name": "python3"
  },
  "language_info": {
   "codemirror_mode": {
    "name": "ipython",
    "version": 3
   },
   "file_extension": ".py",
   "mimetype": "text/x-python",
   "name": "python",
   "nbconvert_exporter": "python",
   "pygments_lexer": "ipython3",
   "version": "3.7.0"
  }
 },
 "nbformat": 4,
 "nbformat_minor": 2
}
